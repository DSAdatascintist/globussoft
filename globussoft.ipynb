{
 "cells": [
  {
   "cell_type": "code",
   "execution_count": 4,
   "id": "cee58978",
   "metadata": {},
   "outputs": [
    {
     "name": "stdout",
     "output_type": "stream",
     "text": [
      "Numpy Matrix is:\n",
      "[[ 5  2  1  4]\n",
      " [ 9  4  2  5]\n",
      " [11  5  7  3]\n",
      " [ 5  6  6  7]]\n",
      "\n",
      "Determinant of given 4X4 square matrix:\n",
      "239\n"
     ]
    }
   ],
   "source": [
    "# importing Numpy package\n",
    "import numpy as np\n",
    "  \n",
    "# creating a 4X4 Numpy matrix\n",
    "n_array = np.array([[5, 2, 1, 4],\n",
    "                    [9, 4, 2, 5],\n",
    "                    [11, 5, 7, 3],\n",
    "                    [5, 6, 6, 7]])\n",
    "  \n",
    "# Displaying the Matrix\n",
    "print(\"Numpy Matrix is:\")\n",
    "print(n_array)\n",
    "  \n",
    "# calculating the determinant of matrix\n",
    "det = np.linalg.det(n_array)\n",
    "  \n",
    "print(\"\\nDeterminant of given 4X4 square matrix:\")\n",
    "print(int(det))"
   ]
  },
  {
   "cell_type": "code",
   "execution_count": null,
   "id": "389aa3ca",
   "metadata": {},
   "outputs": [],
   "source": []
  }
 ],
 "metadata": {
  "kernelspec": {
   "display_name": "Python 3",
   "language": "python",
   "name": "python3"
  },
  "language_info": {
   "codemirror_mode": {
    "name": "ipython",
    "version": 3
   },
   "file_extension": ".py",
   "mimetype": "text/x-python",
   "name": "python",
   "nbconvert_exporter": "python",
   "pygments_lexer": "ipython3",
   "version": "3.8.8"
  }
 },
 "nbformat": 4,
 "nbformat_minor": 5
}
